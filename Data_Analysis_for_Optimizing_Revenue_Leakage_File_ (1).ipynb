{
  "nbformat": 4,
  "nbformat_minor": 0,
  "metadata": {
    "colab": {
      "provenance": []
    },
    "kernelspec": {
      "name": "python3",
      "display_name": "Python 3"
    },
    "language_info": {
      "name": "python"
    }
  },
  "cells": [
    {
      "cell_type": "markdown",
      "source": [
        "# Data Cleaning, Manipulation, and Analysis"
      ],
      "metadata": {
        "id": "qaz7ZqmWjF1Z"
      }
    },
    {
      "cell_type": "code",
      "execution_count": null,
      "metadata": {
        "id": "-v_f854TCeZD"
      },
      "outputs": [],
      "source": [
        "#importing the necessary libraries\n",
        "import pandas as pd\n",
        "import seaborn as sns\n",
        "import matplotlib.pyplot as plt"
      ]
    },
    {
      "cell_type": "code",
      "source": [
        "#Reading the files\n",
        "fact_bookings = pd.read_csv('fact_bookings.csv')\n",
        "fact_agg_bookings = pd.read_csv('fact_aggregated_bookings.csv')\n",
        "dim_rooms = pd.read_csv('dim_rooms.csv')\n",
        "dim_hotels = pd.read_csv('dim_hotels.csv')\n",
        "dim_date = pd.read_csv('dim_date.csv')\n"
      ],
      "metadata": {
        "id": "JzCckZ3jDBgT"
      },
      "execution_count": null,
      "outputs": []
    },
    {
      "cell_type": "code",
      "source": [
        "#Inspecting the table\n",
        "fact_bookings.head()"
      ],
      "metadata": {
        "id": "Eatk9EAlDJ8Q"
      },
      "execution_count": null,
      "outputs": []
    },
    {
      "cell_type": "code",
      "source": [
        "#Inspecting the table\n",
        "fact_agg_bookings.head()"
      ],
      "metadata": {
        "id": "3ZFwvPS4DN68"
      },
      "execution_count": null,
      "outputs": []
    },
    {
      "cell_type": "code",
      "source": [
        "#Inspecting the table\n",
        "dim_rooms.head()"
      ],
      "metadata": {
        "id": "budw-KfND2z_"
      },
      "execution_count": null,
      "outputs": []
    },
    {
      "cell_type": "code",
      "source": [
        "#Inspecting the table\n",
        "dim_hotels.head()"
      ],
      "metadata": {
        "id": "-8zBucHlEG64"
      },
      "execution_count": null,
      "outputs": []
    },
    {
      "cell_type": "code",
      "source": [
        "#Inspecting the table\n",
        "dim_date.head()"
      ],
      "metadata": {
        "id": "x91Y2XusENxb"
      },
      "execution_count": null,
      "outputs": []
    },
    {
      "cell_type": "code",
      "source": [
        "# Converting the string date types to date types that can be read/manipulated in python\n",
        "fact_bookings['booking_date'] = pd.to_datetime(fact_bookings['booking_date'])\n",
        "fact_bookings['check_in_date'] = pd.to_datetime(fact_bookings['check_in_date'])\n",
        "fact_bookings['checkout_date'] = pd.to_datetime(fact_bookings['checkout_date'])\n",
        "dim_date['date'] = pd.to_datetime(dim_date['date'])"
      ],
      "metadata": {
        "id": "RplW3m8_ERfo"
      },
      "execution_count": null,
      "outputs": []
    },
    {
      "cell_type": "code",
      "source": [
        "# Finding the number of duplicate values to be dropped out.\n",
        "print(fact_bookings.duplicated().sum())\n",
        "print(fact_agg_bookings.duplicated().sum())\n",
        "print(dim_rooms.duplicated().sum())\n",
        "print(dim_hotels.duplicated().sum())\n",
        "print(dim_date.duplicated().sum())"
      ],
      "metadata": {
        "id": "1sTNaEpQEqYR"
      },
      "execution_count": null,
      "outputs": []
    },
    {
      "cell_type": "code",
      "source": [
        "#The data files doesn't contain duplicate values."
      ],
      "metadata": {
        "id": "BX-5q6G0EwMZ"
      },
      "execution_count": null,
      "outputs": []
    },
    {
      "cell_type": "code",
      "source": [
        "#Building a single dataset for easy access (Merging)\n",
        "df = fact_bookings.merge(dim_rooms, left_on='room_category', right_on='room_id',how='left')\n",
        "df = df.merge(dim_hotels, on='property_id',how='left')\n",
        "df = df.merge(dim_date, left_on='check_in_date', right_on='date',how='left')"
      ],
      "metadata": {
        "id": "qtRK5IhYFz_i"
      },
      "execution_count": null,
      "outputs": []
    },
    {
      "cell_type": "code",
      "source": [
        "#For more insights\n",
        "df['stay_length'] = (df['checkout_date'] - df['check_in_date']).dt.days\n",
        "df['lead_time'] = (df['check_in_date'] - df['booking_date']).dt.days\n",
        "df['is_weekend'] = df['check_in_date'].dt.weekday >= 5\n",
        "df['is_cancelled'] = df['booking_status'].str.lower() == 'cancelled'\n",
        "df['weekday_name'] = df['check_in_date'].dt.day_name()\n",
        "df['month'] = df['check_in_date'].dt.to_period('M')\n",
        "df['quarter'] = df['check_in_date'].dt.quarter\n",
        "df['year'] = df['check_in_date'].dt.year\n",
        "df['week_number'] = df['check_in_date'].dt.isocalendar().week\n",
        "df['channel'] = df['booking_platform'].str.lower()"
      ],
      "metadata": {
        "id": "p226-tc6JUce"
      },
      "execution_count": null,
      "outputs": []
    },
    {
      "cell_type": "code",
      "source": [
        "df['total_price'] = df['revenue_realized']"
      ],
      "metadata": {
        "id": "-YuQNx8fdjV6"
      },
      "execution_count": null,
      "outputs": []
    },
    {
      "cell_type": "code",
      "source": [
        "#Making a separate summary table\n",
        "summary = df.groupby('is_weekend').agg({\n",
        "    'booking_id': 'count',\n",
        "    'is_cancelled': 'sum',\n",
        "    'total_price': 'sum',\n",
        "    'stay_length': 'mean',\n",
        "    'lead_time': 'mean'\n",
        "}).rename(columns={\n",
        "    'booking_id': 'total_bookings',\n",
        "    'is_cancelled': 'total_cancellations',\n",
        "    'total_price': 'total_revenue',\n",
        "    'stay_length': 'avg_stay_length',\n",
        "    'lead_time': 'avg_lead_time'\n",
        "}).reset_index()\n",
        "\n",
        "summary['cancellation_rate'] = summary['total_cancellations'] / summary['total_bookings']"
      ],
      "metadata": {
        "id": "mcJDMO4Bep8f"
      },
      "execution_count": null,
      "outputs": []
    },
    {
      "cell_type": "code",
      "source": [
        "print(summary)"
      ],
      "metadata": {
        "id": "FanR__BNiUxN"
      },
      "execution_count": null,
      "outputs": []
    },
    {
      "cell_type": "code",
      "source": [
        "# Bar Graph showing Total Bookings on Weekday and Weekend\n",
        "sns.barplot(data=summary, x='is_weekend', y='total_bookings')\n",
        "plt.title(\"Total Bookings: Weekday vs. Weekend\")\n",
        "plt.show()"
      ],
      "metadata": {
        "id": "LXcbvZBfiWqj"
      },
      "execution_count": null,
      "outputs": []
    },
    {
      "cell_type": "code",
      "source": [
        "# Bar Graph showing cancellation rate on Weekday and Weekend\n",
        "sns.barplot(data=summary, x='is_weekend', y='cancellation_rate')\n",
        "plt.title(\"Cancellation Rate: Weekday vs. Weekend\")\n",
        "plt.show()"
      ],
      "metadata": {
        "id": "VltHL67PfeIu"
      },
      "execution_count": null,
      "outputs": []
    },
    {
      "cell_type": "code",
      "source": [
        "# Bar Graph showing Total revenue generated on Weekday and Weekend\n",
        "sns.barplot(data=summary, x='is_weekend', y='total_revenue')\n",
        "plt.title(\"Total Revenue: Weekday vs. Weekend\")\n",
        "plt.show()\n"
      ],
      "metadata": {
        "id": "vZrlKdW_j7Qj"
      },
      "execution_count": null,
      "outputs": []
    },
    {
      "cell_type": "code",
      "source": [
        "# Bar Graph showing average stay length on Weekday and Weekend\n",
        "sns.barplot(data=summary, x='is_weekend', y='avg_stay_length')\n",
        "plt.title(\"Average Stay Length: Weekday vs. Weekend\")\n",
        "plt.show()\n"
      ],
      "metadata": {
        "id": "8xeT3njfkFFG"
      },
      "execution_count": null,
      "outputs": []
    },
    {
      "cell_type": "code",
      "source": [
        "# Bar Graph showing Lead Time on Weekday and Weekend\n",
        "sns.barplot(data=summary, x='is_weekend', y='avg_lead_time')\n",
        "plt.title(\"Lead Time: Weekday vs. Weekend\")\n",
        "plt.show()\n"
      ],
      "metadata": {
        "id": "He995I7tkIps"
      },
      "execution_count": null,
      "outputs": []
    },
    {
      "cell_type": "code",
      "source": [
        "# Average WeekDay Revenue\n",
        "df['adr'] = df['total_price'] / df['stay_length']\n",
        "weekday_adr = df.groupby('is_weekend')['adr'].mean()\n",
        "print(weekday_adr)\n",
        "\n"
      ],
      "metadata": {
        "id": "Nd9s6OUWkaCp"
      },
      "execution_count": null,
      "outputs": []
    },
    {
      "cell_type": "code",
      "source": [
        "# # Bar Graph showing average Revenue generated from Different Classes on Weekday and Weekend\n",
        "df.groupby(['is_weekend', 'room_class'])['total_price'].mean().unstack().plot(kind='bar')\n",
        "plt.title(\"Average Revenue by Room Class: Weekday vs. Weekend\")\n",
        "plt.show()\n"
      ],
      "metadata": {
        "id": "aELq9kPmlM_J"
      },
      "execution_count": null,
      "outputs": []
    },
    {
      "cell_type": "code",
      "source": [
        "# Estimate potential loss from cancellations\n",
        "cancelled_revenue_loss = df[df['is_cancelled'] == True]['revenue_generated'].sum()\n",
        "print(f\"Estimated Revenue Lost Due to Cancellations: ₹{cancelled_revenue_loss:,.0f}\")\n"
      ],
      "metadata": {
        "id": "M3kGiOsEFkhR"
      },
      "execution_count": null,
      "outputs": []
    },
    {
      "cell_type": "markdown",
      "source": [
        "# ROOT CAUSE ANALYSIS"
      ],
      "metadata": {
        "id": "P5c5PY5XNH49"
      }
    },
    {
      "cell_type": "code",
      "source": [
        "# Ensure both columns are datetime types\n",
        "fact_bookings['check_in_date'] = pd.to_datetime(fact_bookings['check_in_date'])\n",
        "fact_agg_bookings['check_in_date'] = pd.to_datetime(fact_agg_bookings['check_in_date'])\n",
        "dim_date['date'] = pd.to_datetime(dim_date['date'])\n",
        "\n"
      ],
      "metadata": {
        "id": "-Z2f1ybOYaJE"
      },
      "execution_count": null,
      "outputs": []
    },
    {
      "cell_type": "code",
      "source": [
        "# Merging and enriching your dataset\n",
        "room_perf = (\n",
        "    fact_agg_bookings\n",
        "    .merge(dim_rooms, left_on=\"room_category\", right_on=\"room_class\", how=\"left\")\n",
        "    .merge(dim_hotels, on=\"property_id\", how=\"left\")\n",
        "    .merge(dim_date, left_on=\"check_in_date\", right_on=\"date\", how=\"left\"))"
      ],
      "metadata": {
        "id": "0xrMVJj0NNmz"
      },
      "execution_count": null,
      "outputs": []
    },
    {
      "cell_type": "code",
      "source": [
        "# To connect actual revenue to the booking performance.\n",
        "booking_revenue = (\n",
        "    fact_bookings\n",
        "    .groupby(['property_id', 'check_in_date', 'room_category'])['revenue_realized']\n",
        "    .sum()\n",
        "    .reset_index())"
      ],
      "metadata": {
        "id": "JXoqDCdLNlpw"
      },
      "execution_count": null,
      "outputs": []
    },
    {
      "cell_type": "code",
      "source": [
        "# KPIs  for evaluating performances\n",
        "room_perf = room_perf.merge(\n",
        "    booking_revenue,\n",
        "    on=['property_id', 'check_in_date', 'room_category'],\n",
        "    how='left'\n",
        ")"
      ],
      "metadata": {
        "id": "9vjgvv_nZDaM"
      },
      "execution_count": null,
      "outputs": []
    },
    {
      "cell_type": "code",
      "source": [
        "room_perf['occupancy_pct'] = room_perf['successful_bookings'] / room_perf['capacity']\n",
        "room_perf['revpar'] = room_perf['revenue_realized'] / room_perf['capacity']\n",
        "room_perf['revenue_per_booking'] = room_perf['revenue_realized'] / room_perf['successful_bookings']"
      ],
      "metadata": {
        "id": "SsJzlfNPZ2nz"
      },
      "execution_count": null,
      "outputs": []
    },
    {
      "cell_type": "code",
      "source": [
        "# A summary table that summarizes performance with time\n",
        "room_summary = (\n",
        "    room_perf\n",
        "    .groupby(['property_name', 'room_category', 'day_type'])\n",
        "    .agg({\n",
        "        'successful_bookings': 'sum',\n",
        "        'capacity': 'sum',\n",
        "        'revenue_realized': 'sum'\n",
        "    })\n",
        "    .reset_index()\n",
        ")\n",
        "\n",
        "room_summary['occupancy_pct'] = room_summary['successful_bookings'] / room_summary['capacity']\n",
        "room_summary['revpar'] = room_summary['revenue_realized'] / room_summary['capacity']\n",
        "room_summary['revenue_per_booking'] = room_summary['revenue_realized'] / room_summary['successful_bookings']\n"
      ],
      "metadata": {
        "id": "2xxC53WNayfn"
      },
      "execution_count": null,
      "outputs": []
    },
    {
      "cell_type": "code",
      "source": [
        "# sort by RevPAR to find underperformers\n",
        "underperforming_rooms = room_summary.sort_values(by='revpar').head(10)\n",
        "\n"
      ],
      "metadata": {
        "id": "VR7L4-DRa5yD"
      },
      "execution_count": null,
      "outputs": []
    },
    {
      "cell_type": "code",
      "source": [
        "#Visualizing with a scatter plot\n",
        "import seaborn as sns\n",
        "import matplotlib.pyplot as plt\n",
        "\n",
        "sns.scatterplot(\n",
        "    data=room_summary,\n",
        "    x='occupancy_pct',\n",
        "    y='revpar',\n",
        "    hue='room_category'\n",
        ")\n",
        "plt.axhline(0, color='red', linestyle='--')\n",
        "plt.title(\"Room Category Performance\")\n",
        "plt.show()\n"
      ],
      "metadata": {
        "id": "yHCy6n6qbCMb"
      },
      "execution_count": null,
      "outputs": []
    },
    {
      "cell_type": "code",
      "source": [
        "# isolating all bookings marked as \"cancelled\".\n",
        "cancelled_df = fact_bookings[fact_bookings['booking_status'].str.lower() == 'cancelled']"
      ],
      "metadata": {
        "id": "6AfuR35PbC3_"
      },
      "execution_count": null,
      "outputs": []
    },
    {
      "cell_type": "code",
      "source": [
        "# Standardizing\n",
        "fact_bookings['booking_status'] = fact_bookings['booking_status'].str.strip().str.lower()\n",
        "fact_bookings['booking_date'] = pd.to_datetime(fact_bookings['booking_date'])\n",
        "fact_bookings['check_in_date'] = pd.to_datetime(fact_bookings['check_in_date'])\n",
        "fact_bookings['lead_time_days'] = (fact_bookings['check_in_date'] - fact_bookings['booking_date']).dt.days\n"
      ],
      "metadata": {
        "id": "wRoM2nSvlRk8"
      },
      "execution_count": null,
      "outputs": []
    },
    {
      "cell_type": "code",
      "source": [
        "# Calculating which platforms have highest cancellation rates.\n",
        "cancel_rate_by_platform = (\n",
        "    fact_bookings.groupby(['booking_platform', 'booking_status'])\n",
        "    .size()\n",
        "    .unstack(fill_value=0))\n",
        "cancel_rate_by_platform['cancel_rate'] = (\n",
        "    cancel_rate_by_platform.get('cancelled', 0) /\n",
        "    cancel_rate_by_platform.sum(axis=1))"
      ],
      "metadata": {
        "id": "HNu43AT9j9Nf"
      },
      "execution_count": null,
      "outputs": []
    },
    {
      "cell_type": "code",
      "source": [
        "# Calculating which room categories have highest cancellation rates.\n",
        "cancel_rate_by_room = (\n",
        "    fact_bookings.groupby(['room_category', 'booking_status'])\n",
        "    .size()\n",
        "    .unstack(fill_value=0))\n",
        "cancel_rate_by_room['cancel_rate'] = (\n",
        "    cancel_rate_by_room.get('cancelled', 0) /\n",
        "    cancel_rate_by_room.sum(axis=1))"
      ],
      "metadata": {
        "id": "W3PSF-aoj-Y7"
      },
      "execution_count": null,
      "outputs": []
    },
    {
      "cell_type": "code",
      "source": [
        "#Calculating weekday vs weekend cancellation rates.\n",
        "fact_bookings['checkin_weekday'] = fact_bookings['check_in_date'].dt.dayofweek\n",
        "fact_bookings['is_weekend_checkin'] = fact_bookings['checkin_weekday'] >= 5"
      ],
      "metadata": {
        "id": "YkEBX7zdkA3P"
      },
      "execution_count": null,
      "outputs": []
    },
    {
      "cell_type": "code",
      "source": [
        "fact_bookings.columns\n",
        "fact_bookings['booking_status'].unique()\n"
      ],
      "metadata": {
        "id": "8XtU6RxUkD9i"
      },
      "execution_count": null,
      "outputs": []
    },
    {
      "cell_type": "code",
      "source": [
        "# Plotting graph for Cancellation Rate by Booking Platforms\n",
        "plt.figure(figsize=(10, 5))\n",
        "sns.barplot(\n",
        "    data=cancel_rate_by_platform.reset_index(),\n",
        "    x='booking_platform',\n",
        "    y='cancel_rate',\n",
        "    palette='coolwarm'\n",
        ")\n",
        "plt.title('Cancellation Rate by Booking Platform')\n",
        "plt.ylabel('Cancellation Rate')\n",
        "plt.xlabel('Booking Platform')\n",
        "plt.xticks(rotation=45)\n",
        "plt.tight_layout()\n",
        "plt.show()\n"
      ],
      "metadata": {
        "id": "pRb4eyqdlB6-"
      },
      "execution_count": null,
      "outputs": []
    },
    {
      "cell_type": "code",
      "source": [
        "# Plotting graph for Cancellation Rate by Room Category\n",
        "plt.figure(figsize=(8, 5))\n",
        "sns.barplot(\n",
        "    data=cancel_rate_by_room.reset_index(),\n",
        "    x='room_category',\n",
        "    y='cancel_rate',\n",
        "    palette='viridis'\n",
        ")\n",
        "plt.title('Cancellation Rate by Room Category')\n",
        "plt.ylabel('Cancellation Rate')\n",
        "plt.xlabel('Room Category')\n",
        "plt.tight_layout()\n",
        "plt.show()\n"
      ],
      "metadata": {
        "id": "s_dXQI6amS7A"
      },
      "execution_count": null,
      "outputs": []
    },
    {
      "cell_type": "code",
      "source": [
        "# Calculating total realized revenue per hotel\n",
        "revenue_summary = fact_bookings.groupby('property_id')['revenue_realized'].sum().reset_index()\n",
        "\n",
        "# Merging with hotel names\n",
        "hotel_revenue = revenue_summary.merge(dim_hotels[['property_id', 'property_name']], on='property_id', how='left')\n",
        "\n",
        "# Classifying hotels based on name\n",
        "def classify_hotel(name):\n",
        "    name = name.lower()\n",
        "    if 'resort' in name or 'luxury' in name:\n",
        "        return 'Luxury'\n",
        "    elif 'express' in name or 'inn' in name or 'suites' in name:\n",
        "        return 'Business'\n",
        "    else:\n",
        "        return 'Midscale'\n",
        "\n",
        "hotel_revenue['hotel_category'] = hotel_revenue['property_name'].apply(classify_hotel)\n"
      ],
      "metadata": {
        "id": "CDFdFqWAs9yP"
      },
      "execution_count": null,
      "outputs": []
    },
    {
      "cell_type": "code",
      "source": [
        "# Calculating Hotel Revenue\n",
        "def estimate_ancillary(row):\n",
        "    revenue = row['revenue_realized']\n",
        "    category = row['hotel_category']\n",
        "    if category == 'Luxury':\n",
        "        return pd.Series({'spa_estimated': revenue * 0.05, 'fnb_estimated': revenue * 0.20, 'other_estimated': revenue * 0.02})\n",
        "    elif category == 'Business':\n",
        "        return pd.Series({'spa_estimated': revenue * 0.005, 'fnb_estimated': revenue * 0.25, 'other_estimated': revenue * 0.02})\n",
        "    else:  # Midscale\n",
        "        return pd.Series({'spa_estimated': revenue * 0.01, 'fnb_estimated': revenue * 0.15, 'other_estimated': revenue * 0.015})\n",
        "\n",
        "hotel_revenue[['spa_estimated', 'fnb_estimated', 'other_estimated']] = hotel_revenue.apply(estimate_ancillary, axis=1)\n"
      ],
      "metadata": {
        "id": "5TO5_7XysbtS"
      },
      "execution_count": null,
      "outputs": []
    },
    {
      "cell_type": "code",
      "source": [
        "# Plotting a Pie graph for depicting share of Ancillary Revenue Components Across All Hotels\n",
        "\n",
        "import matplotlib.pyplot as plt\n",
        "\n",
        "\n",
        "total_spa = hotel_revenue['spa_estimated'].sum()\n",
        "total_fnb = hotel_revenue['fnb_estimated'].sum()\n",
        "total_other = hotel_revenue['other_estimated'].sum()\n",
        "\n",
        "\n",
        "ancillary_totals = [total_spa, total_fnb, total_other]\n",
        "labels = ['Spa', 'F&B', 'Other Services']\n",
        "colors = ['#8dd3c7', '#ffffb3', '#bebada']\n",
        "\n",
        "\n",
        "plt.figure(figsize=(6, 6))\n",
        "plt.pie(\n",
        "    ancillary_totals,\n",
        "    labels=labels,\n",
        "    autopct='%1.1f%%',\n",
        "    colors=colors,\n",
        "    startangle=140,\n",
        "    wedgeprops={'edgecolor': 'black'}\n",
        ")\n",
        "plt.title('Share of Ancillary Revenue Components Across All Hotels')\n",
        "plt.tight_layout()\n",
        "plt.show()\n",
        "\n"
      ],
      "metadata": {
        "id": "OpxI_fW3scsh"
      },
      "execution_count": null,
      "outputs": []
    },
    {
      "cell_type": "code",
      "source": [
        "# Filtering for successful bookings\n",
        "successful = fact_bookings[fact_bookings['booking_status'] == 'Checked Out'].copy()\n",
        "\n",
        "# Merging room_class info\n",
        "successful = successful.merge(dim_rooms, left_on='room_category', right_on='room_class', how='left')\n",
        "\n",
        "# Creating 'category' from 'room_class'\n",
        "successful['category'] = successful['room_class']\n",
        "\n",
        "# Standardizing\n",
        "successful['check_in_date'] = pd.to_datetime(successful['check_in_date'])\n",
        "successful['week_year'] = successful['check_in_date'].dt.strftime('%Y-W%U')\n",
        "\n",
        "# Creating weekly aggregate — count of bookings as success, and assume fixed capacity per week\n",
        "agg_bookings = successful.groupby(['category', 'week_year']).agg({\n",
        "    'booking_id': 'count',  # Number of bookings = demand\n",
        "    'revenue_realized': 'sum'\n",
        "}).rename(columns={\n",
        "    'booking_id': 'successful_bookings',\n",
        "    'revenue_realized': 'revenue_est'\n",
        "}).reset_index()\n",
        "\n",
        "# Estimating room capacity (assumed 10 rooms × 7 days = 70 room-nights per week)\n",
        "agg_bookings['capacity'] = 70  # Assumption\n",
        "\n",
        "agg_bookings.head()\n"
      ],
      "metadata": {
        "id": "WEAq0Xwiy91o"
      },
      "execution_count": null,
      "outputs": []
    },
    {
      "cell_type": "code",
      "source": [
        "# Calculating KPIs\n",
        "agg_bookings['occupancy_pct'] = (agg_bookings['successful_bookings'] / agg_bookings['capacity']) * 100\n",
        "agg_bookings['revpar'] = agg_bookings['revenue_est'] / agg_bookings['capacity']\n",
        "agg_bookings['adr'] = agg_bookings['revenue_est'] / agg_bookings['successful_bookings']\n",
        "\n",
        "# Computing Week-on-Week (WoW) trends\n",
        "agg_bookings.sort_values(by=['category', 'week_year'], inplace=True)\n",
        "\n",
        "# Calculating WoW % change for each KPI\n",
        "agg_bookings[['wow_occupancy', 'wow_adr', 'wow_revpar']] = agg_bookings.groupby('category')[\n",
        "    ['occupancy_pct', 'adr', 'revpar']\n",
        "].pct_change().fillna(0) * 100  # Convert to percentage\n",
        "\n",
        "agg_bookings.head()\n"
      ],
      "metadata": {
        "id": "0XN9ZRdP3Q6A"
      },
      "execution_count": null,
      "outputs": []
    },
    {
      "cell_type": "code",
      "source": [
        "df = fact_agg_bookings.merge(dim_hotels, on='property_id', how='left') \\\n",
        "    .merge(dim_date, left_on='check_in_date', right_on='date', how='left')\n"
      ],
      "metadata": {
        "id": "qRLnUn4Ck5V5"
      },
      "execution_count": null,
      "outputs": []
    },
    {
      "cell_type": "code",
      "source": [
        "# Ensuring Standarization\n",
        "df['check_in_date'] = pd.to_datetime(df['check_in_date'])\n",
        "\n",
        "# Creating 'day_type' column\n",
        "df['day_type'] = df['check_in_date'].dt.dayofweek.apply(lambda x: 'Weekday' if x < 5 else 'Weekend')\n"
      ],
      "metadata": {
        "id": "ma29QkTHnTga"
      },
      "execution_count": null,
      "outputs": []
    },
    {
      "cell_type": "code",
      "source": [
        "# Calculating Occupancy %\n",
        "df['occupancy_pct'] = (df['successful_bookings'] / df['capacity']) * 100"
      ],
      "metadata": {
        "id": "oL7g_XvSnaH9"
      },
      "execution_count": null,
      "outputs": []
    },
    {
      "cell_type": "code",
      "source": [
        "# Plotting a graph showing Occupancy %: Weekday vs Weekend\n",
        "import seaborn as sns\n",
        "import matplotlib.pyplot as plt\n",
        "\n",
        "plt.figure(figsize=(8, 5))\n",
        "sns.boxplot(x='day_type', y='occupancy_pct', data=df)\n",
        "plt.title('Occupancy %: Weekday vs Weekend')\n",
        "plt.ylabel('Occupancy %')\n",
        "plt.xlabel('Day Type')\n",
        "plt.show()\n"
      ],
      "metadata": {
        "id": "5IBRbIUjl2oF"
      },
      "execution_count": null,
      "outputs": []
    },
    {
      "cell_type": "code",
      "source": [
        "# Plotting a graph showing Occupancy % by Hotel Category\n",
        "plt.figure(figsize=(8, 5))\n",
        "sns.boxplot(x='category', y='occupancy_pct', data=df)\n",
        "plt.title('Occupancy % by Hotel Category')\n",
        "plt.ylabel('Occupancy %')\n",
        "plt.xlabel('Hotel Category')\n",
        "plt.xticks(rotation=45)\n",
        "plt.show()\n"
      ],
      "metadata": {
        "id": "ASZ9EM-LnDpM"
      },
      "execution_count": null,
      "outputs": []
    },
    {
      "cell_type": "code",
      "source": [
        "df['month'] = df['check_in_date'].dt.month\n",
        "\n",
        "# Group and plotting average occupancy by month\n",
        "monthly_occupancy = df.groupby('month')['occupancy_pct'].mean().reset_index()\n",
        "\n",
        "plt.figure(figsize=(10, 6))\n",
        "sns.lineplot(data=monthly_occupancy, x='month', y='occupancy_pct', marker='o')\n",
        "plt.title('Average Monthly Occupancy %')\n",
        "plt.xlabel('Month')\n",
        "plt.ylabel('Occupancy %')\n",
        "plt.xticks(range(1, 13))\n",
        "plt.grid(True)\n",
        "plt.show()\n"
      ],
      "metadata": {
        "id": "3mKE8KLSoF5X"
      },
      "execution_count": null,
      "outputs": []
    }
  ]
}