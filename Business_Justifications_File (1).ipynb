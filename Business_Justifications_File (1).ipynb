{
  "nbformat": 4,
  "nbformat_minor": 0,
  "metadata": {
    "colab": {
      "provenance": []
    },
    "kernelspec": {
      "name": "python3",
      "display_name": "Python 3"
    },
    "language_info": {
      "name": "python"
    }
  },
  "cells": [
    {
      "cell_type": "code",
      "execution_count": null,
      "metadata": {
        "id": "kZ5K2GUgUp9_"
      },
      "outputs": [],
      "source": [
        "#importing the necessary libraries\n",
        "import pandas as pd\n",
        "import seaborn as sns\n",
        "import matplotlib.pyplot as plt"
      ]
    },
    {
      "cell_type": "code",
      "source": [
        "#Reading the files\n",
        "fact_bookings = pd.read_csv('fact_bookings.csv')\n",
        "fact_agg_bookings = pd.read_csv('fact_aggregated_bookings.csv')\n",
        "dim_rooms = pd.read_csv('dim_rooms.csv')\n",
        "dim_hotels = pd.read_csv('dim_hotels.csv')\n",
        "dim_date = pd.read_csv('dim_date.csv')"
      ],
      "metadata": {
        "id": "wie3Q0nNVWKR"
      },
      "execution_count": null,
      "outputs": []
    },
    {
      "cell_type": "code",
      "source": [
        "# Converting the string date types to date types that can be read/manipulated in python\n",
        "fact_bookings['booking_date'] = pd.to_datetime(fact_bookings['booking_date'])\n",
        "fact_bookings['check_in_date'] = pd.to_datetime(fact_bookings['check_in_date'])\n",
        "fact_bookings['checkout_date'] = pd.to_datetime(fact_bookings['checkout_date'])\n",
        "dim_date['date'] = pd.to_datetime(dim_date['date'])"
      ],
      "metadata": {
        "id": "QD8lJNdzVfsd"
      },
      "execution_count": null,
      "outputs": []
    },
    {
      "cell_type": "code",
      "source": [
        "#Building a single dataset for easy access (Merging)\n",
        "df = fact_bookings.merge(dim_rooms, left_on='room_category', right_on='room_id',how='left')\n",
        "df = df.merge(dim_hotels, on='property_id',how='left')\n",
        "df = df.merge(dim_date, left_on='check_in_date', right_on='date',how='left')"
      ],
      "metadata": {
        "id": "JEE94GRSflri"
      },
      "execution_count": null,
      "outputs": []
    },
    {
      "cell_type": "code",
      "source": [
        "\n",
        "\n",
        "# Merging datasets using actual column names and file names\n",
        "df = fact_bookings.merge(dim_rooms, left_on='room_category', right_on='room_id', how='left')\n",
        "df = df.merge(dim_hotels, on='property_id', how='left')\n",
        "df = df.merge(dim_date, left_on='check_in_date', right_on='date', how='left')\n",
        "\n",
        "df_valid = df[df['revenue_generated'].notnull() & df['revenue_realized'].notnull()]\n",
        "\n",
        "# Calculating total revenue lost due to cancellations or non-completions\n",
        "df_valid['revenue_lost'] = df_valid['revenue_generated'] - df_valid['revenue_realized']\n",
        "\n",
        "# Total revenue metrics\n",
        "total_generated = df_valid['revenue_generated'].sum()\n",
        "total_realized = df_valid['revenue_realized'].sum()\n",
        "total_lost = df_valid['revenue_lost'].sum()\n",
        "\n",
        "# Calculating % leakage\n",
        "percent_leakage = (total_lost / total_generated) * 100\n",
        "\n",
        "total_generated, total_realized, total_lost, percent_leakage\n"
      ],
      "metadata": {
        "id": "KxQJJDrClfIU"
      },
      "execution_count": null,
      "outputs": []
    },
    {
      "cell_type": "code",
      "source": [
        "# These should match your actual calculated results\n",
        "revenue_generated = 2007546215  # Total revenue generated (₹)\n",
        "revenue_realized = 1708771229   # Total revenue realized (₹)\n",
        "\n",
        "# Calculate the revenue leakage amount\n",
        "leakage_amount = revenue_generated - revenue_realized\n",
        "\n",
        "scenarios = {\n",
        "    \"Best Case\": 0.50,        # Recover 50% of leakage\n",
        "    \"Most Likely\": 0.30,      # Recover 30%\n",
        "    \"Worst Case\": 0.10        # Recover 10%\n",
        "}\n"
      ],
      "metadata": {
        "id": "K2oyNf2ABg2B"
      },
      "execution_count": null,
      "outputs": []
    },
    {
      "cell_type": "code",
      "source": [
        "forecast_results = []\n",
        "\n",
        "for scenario, recovery_rate in scenarios.items():\n",
        "    recovered_revenue = leakage_amount * recovery_rate\n",
        "    projected_revenue = revenue_realized + recovered_revenue\n",
        "\n",
        "    forecast_results.append({\n",
        "        \"Scenario\": scenario,\n",
        "        \"Recovery %\": f\"{int(recovery_rate * 100)}%\",\n",
        "        \"Recovered Revenue (₹)\": round(recovered_revenue, 2),\n",
        "        \"Projected Revenue (₹)\": round(projected_revenue, 2)\n",
        "    })\n",
        "\n",
        "import pandas as pd\n",
        "forecast_df = pd.DataFrame(forecast_results)\n",
        "forecast_df"
      ],
      "metadata": {
        "id": "kOz12UFDBpBn"
      },
      "execution_count": null,
      "outputs": []
    },
    {
      "cell_type": "code",
      "source": [
        "import matplotlib.pyplot as plt\n",
        "\n",
        "plt.figure(figsize=(8, 5))\n",
        "plt.bar(forecast_df[\"Scenario\"], forecast_df[\"Projected Revenue (₹)\"], color=['green', 'orange', 'red'])\n",
        "plt.title(\"Projected Revenue by Scenario\")\n",
        "plt.ylabel(\"Projected Revenue (₹)\")\n",
        "plt.xlabel(\"Scenario\")\n",
        "plt.grid(True, axis='y')\n",
        "plt.tight_layout()\n",
        "plt.show()\n"
      ],
      "metadata": {
        "id": "BQRdmKDoGcH2"
      },
      "execution_count": null,
      "outputs": []
    },
    {
      "cell_type": "code",
      "source": [
        "#Calculating total revenue leakage\n",
        "total_revenue_generated = fact_bookings['revenue_generated'].sum()\n",
        "total_revenue_realized = fact_bookings['revenue_realized'].sum()\n",
        "total_revenue_leakage = total_revenue_generated - total_revenue_realized\n",
        "\n",
        "# Define implementation cost (assumed)\n",
        "cost_of_implementation = 10000000  # in currency units INR\n",
        "\n",
        "# Defining\n",
        "scenarios = {\n",
        "    \"Conservative (10%)\": 10,\n",
        "    \"Moderate (25%)\": 25,\n",
        "    \"Aggressive (50%)\": 50,\n",
        "}\n",
        "\n",
        "results = []\n",
        "\n",
        "# Loop through scenarios and compute ROI\n",
        "for name, reduction_pct in scenarios.items():\n",
        "    revenue_saved = total_revenue_leakage * (reduction_pct / 100)\n",
        "    new_realized = total_revenue_realized + revenue_saved\n",
        "    roi = ((revenue_saved - cost_of_implementation) / cost_of_implementation) * 100\n",
        "\n",
        "    results.append({\n",
        "        \"Scenario\": name,\n",
        "        \"Leakage Reduction %\": reduction_pct,\n",
        "        \"Revenue Saved\": int(revenue_saved),\n",
        "        \"New Revenue Realized\": int(new_realized),\n",
        "        \"Implementation Cost\": cost_of_implementation,\n",
        "        \"ROI %\": round(roi, 2)\n",
        "    })\n",
        "\n",
        "\n",
        "business_impact_df = pd.DataFrame(results)\n",
        "\n",
        "\n",
        "display(business_impact_df)\n"
      ],
      "metadata": {
        "id": "xoxZBntYurFK"
      },
      "execution_count": null,
      "outputs": []
    }
  ]
}